{
 "cells": [
  {
   "cell_type": "markdown",
   "id": "a68dee31",
   "metadata": {},
   "source": [
    "# snow flake 계정을 주피터 노트북에 연결"
   ]
  },
  {
   "cell_type": "code",
   "execution_count": 2,
   "id": "bcad82c0",
   "metadata": {},
   "outputs": [
    {
     "data": {
      "text/plain": [
       "True"
      ]
     },
     "execution_count": 2,
     "metadata": {},
     "output_type": "execute_result"
    }
   ],
   "source": [
    "from dotenv import load_dotenv\n",
    "import os\n",
    "import snowflake.connector\n",
    "# .env 파일의 환경변수를 로드\n",
    "\n",
    "load_dotenv(dotenv_path='dev.env')\n"
   ]
  },
  {
   "cell_type": "code",
   "execution_count": 3,
   "id": "3a016274",
   "metadata": {},
   "outputs": [],
   "source": [
    "from dotenv import load_dotenv\n",
    "import os\n",
    "import snowflake.connector\n",
    "\n",
    "# .env 파일의 환경변수를 로드\n",
    "load_dotenv(dotenv_path='dev.env')\n",
    "\n",
    "def return_snowflake_conn():\n",
    "\n",
    "    conn = snowflake.connector.connect(\n",
    "        user=os.environ.get('SNOWFLAKE_USER'),\n",
    "        password=os.environ.get('SNOWFLAKE_PASSWORD'),\n",
    "        account=os.environ.get('SNOWFLAKE_ACCOUNT'),\n",
    "        warehouse = os.environ.get('SNOWFLAKE_WAREHOUSE'),\n",
    "        database = os.environ.get('SNOWFLAKE_DATABASE')\n",
    "    )\n",
    "\n",
    "    return conn.cursor()"
   ]
  },
  {
   "cell_type": "code",
   "execution_count": null,
   "id": "647a2534",
   "metadata": {},
   "outputs": [],
   "source": []
  }
 ],
 "metadata": {
  "kernelspec": {
   "display_name": ".venv",
   "language": "python",
   "name": "python3"
  },
  "language_info": {
   "codemirror_mode": {
    "name": "ipython",
    "version": 3
   },
   "file_extension": ".py",
   "mimetype": "text/x-python",
   "name": "python",
   "nbconvert_exporter": "python",
   "pygments_lexer": "ipython3",
   "version": "3.12.3"
  }
 },
 "nbformat": 4,
 "nbformat_minor": 5
}
