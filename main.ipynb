{
 "cells": [
  {
   "cell_type": "markdown",
   "id": "a68dee31",
   "metadata": {},
   "source": [
    "# snow flake 계정을 주피터 노트북에 연결"
   ]
  },
  {
   "cell_type": "code",
   "execution_count": 1,
   "id": "bcad82c0",
   "metadata": {},
   "outputs": [
    {
     "name": "stdout",
     "output_type": "stream",
     "text": [
      "USER: staylee\n",
      "PW: WNDDKDwnddkd0029**\n",
      "ACCOUNT: PGZJAHH-LS74708\n"
     ]
    }
   ],
   "source": [
    "from dotenv import load_dotenv\n",
    "import os\n",
    "import snowflake.connector\n",
    "# .env 파일의 환경변수를 로드\n",
    "\n",
    "load_dotenv(dotenv_path='dev.env')\n",
    "print('USER:', os.environ.get('SNOWFLAKE_USER'))\n",
    "print('PW:', os.environ.get('SNOWFLAKE_PASSWORD'))\n",
    "print('ACCOUNT:', os.environ.get('SNOWFLAKE_ACCOUNT'))"
   ]
  },
  {
   "cell_type": "code",
   "execution_count": 7,
   "id": "3a016274",
   "metadata": {},
   "outputs": [],
   "source": [
    "from dotenv import load_dotenv\n",
    "import os\n",
    "import snowflake.connector\n",
    "\n",
    "# .env 파일의 환경변수를 로드\n",
    "load_dotenv(dotenv_path='dev.env')\n",
    "\n",
    "def return_snowflake_conn():\n",
    "\n",
    "    conn = snowflake.connector.connect(\n",
    "        user=os.environ.get('SNOWFLAKE_USER'),\n",
    "        password=os.environ.get('SNOWFLAKE_PASSWORD'),\n",
    "        account=os.environ.get('SNOWFLAKE_ACCOUNT'),\n",
    "        warehouse = os.environ.get('SNOWFLAKE_WAREHOUSE'),\n",
    "        database = os.environ.get('SNOWFLAKE_DATABASE')\n",
    "    )\n",
    "\n",
    "    return conn.cursor()"
   ]
  },
  {
   "cell_type": "code",
   "execution_count": null,
   "id": "647a2534",
   "metadata": {},
   "outputs": [],
   "source": []
  }
 ],
 "metadata": {
  "kernelspec": {
   "display_name": ".venv",
   "language": "python",
   "name": "python3"
  },
  "language_info": {
   "codemirror_mode": {
    "name": "ipython",
    "version": 3
   },
   "file_extension": ".py",
   "mimetype": "text/x-python",
   "name": "python",
   "nbconvert_exporter": "python",
   "pygments_lexer": "ipython3",
   "version": "3.12.3"
  }
 },
 "nbformat": 4,
 "nbformat_minor": 5
}
